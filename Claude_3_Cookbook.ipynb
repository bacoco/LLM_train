{
  "nbformat": 4,
  "nbformat_minor": 0,
  "metadata": {
    "colab": {
      "provenance": [],
      "include_colab_link": true
    },
    "kernelspec": {
      "name": "python3",
      "display_name": "Python 3"
    },
    "language_info": {
      "name": "python"
    }
  },
  "cells": [
    {
      "cell_type": "markdown",
      "metadata": {
        "id": "view-in-github",
        "colab_type": "text"
      },
      "source": [
        "<a href=\"https://colab.research.google.com/github/bacoco/LLM_train/blob/main/Claude_3_Cookbook.ipynb\" target=\"_parent\"><img src=\"https://colab.research.google.com/assets/colab-badge.svg\" alt=\"Open In Colab\"/></a>"
      ]
    },
    {
      "cell_type": "code",
      "source": [
        "%pip install llama-index\n",
        "%pip install transformers\n",
        "%pip install llama-index-readers-web\n",
        "%pip install llama-index-embeddings-huggingface\n",
        "%pip install llama-index-llms-anthropic"
      ],
      "metadata": {
        "id": "V1DwVkHCNDgT"
      },
      "execution_count": null,
      "outputs": []
    },
    {
      "cell_type": "markdown",
      "source": [
        "## Setup"
      ],
      "metadata": {
        "id": "q1_IZvrVM_FQ"
      }
    },
    {
      "cell_type": "markdown",
      "source": [
        "### Data"
      ],
      "metadata": {
        "id": "kkjVukvQO_5D"
      }
    },
    {
      "cell_type": "code",
      "source": [
        "from llama_index.readers.web import BeautifulSoupWebReader\n",
        "\n",
        "url = \"https://www.theverge.com/2023/9/29/23895675/ai-bot-social-network-openai-meta-chatbots\"\n",
        "\n",
        "documents = BeautifulSoupWebReader().load_data([url])"
      ],
      "metadata": {
        "id": "quYBhKouOIxM"
      },
      "execution_count": null,
      "outputs": []
    },
    {
      "cell_type": "markdown",
      "source": [
        "### LLM"
      ],
      "metadata": {
        "id": "zXOJQa7FOGr5"
      }
    },
    {
      "cell_type": "code",
      "source": [
        "import os\n",
        "\n",
        "os.environ['ANTHROPIC_API_KEY'] = \"sk-\""
      ],
      "metadata": {
        "id": "JEOBXnZ9RGRU"
      },
      "execution_count": null,
      "outputs": []
    },
    {
      "cell_type": "code",
      "execution_count": null,
      "metadata": {
        "id": "lMNaHDzPM68f"
      },
      "outputs": [],
      "source": [
        "from llama_index.llms.anthropic import Anthropic\n",
        "\n",
        "# llm = Anthropic(model=\"claude-3-sonnet-20240229\", temperature=0.0)\n",
        "llm = Anthropic(model=\"claude-3-opus-20240229\", temperature=0.0)"
      ]
    },
    {
      "cell_type": "code",
      "source": [
        "from llama_index.core import Settings\n",
        "\n",
        "Settings.llm = llm\n",
        "Settings.embed_model = \"local:BAAI/bge-small-en-v1.5\""
      ],
      "metadata": {
        "id": "rPawBPL0SwFj"
      },
      "execution_count": null,
      "outputs": []
    },
    {
      "cell_type": "markdown",
      "source": [
        "### Index Setup"
      ],
      "metadata": {
        "id": "_iYeofUlS6_D"
      }
    },
    {
      "cell_type": "code",
      "source": [
        "from llama_index.core import VectorStoreIndex\n",
        "\n",
        "vector_index = VectorStoreIndex.from_documents(documents)"
      ],
      "metadata": {
        "id": "Jz173lnJS8cZ"
      },
      "execution_count": null,
      "outputs": []
    },
    {
      "cell_type": "code",
      "source": [
        "from llama_index.core.indices import SummaryIndex\n",
        "\n",
        "summary_index = SummaryIndex.from_documents(documents)"
      ],
      "metadata": {
        "id": "CuGwYVl5S-GH"
      },
      "execution_count": null,
      "outputs": []
    },
    {
      "cell_type": "markdown",
      "source": [
        "### Helpful Imports / Logging"
      ],
      "metadata": {
        "id": "pxFrAm_bTCYY"
      }
    },
    {
      "cell_type": "code",
      "source": [
        "from llama_index.core.response.notebook_utils import display_response"
      ],
      "metadata": {
        "id": "ghqk6C04TD3b"
      },
      "execution_count": null,
      "outputs": []
    },
    {
      "cell_type": "code",
      "source": [
        "import logging\n",
        "import sys\n",
        "\n",
        "logging.basicConfig(stream=sys.stdout, level=logging.INFO)\n",
        "logging.getLogger().addHandler(logging.StreamHandler(stream=sys.stdout))"
      ],
      "metadata": {
        "id": "6YVB1ny-UjN4"
      },
      "execution_count": null,
      "outputs": []
    },
    {
      "cell_type": "markdown",
      "source": [
        "## Basic Query Engine"
      ],
      "metadata": {
        "id": "K0l3oUS8NO-I"
      }
    },
    {
      "cell_type": "markdown",
      "source": [
        "### Compact (default)"
      ],
      "metadata": {
        "id": "TC2Vdq5LNe6H"
      }
    },
    {
      "cell_type": "code",
      "source": [
        "query_engine = vector_index.as_query_engine(response_mode=\"compact\")\n",
        "\n",
        "response = query_engine.query(\"How do OpenAI and Meta differ on AI tools?\")\n",
        "\n",
        "display_response(response)"
      ],
      "metadata": {
        "colab": {
          "base_uri": "https://localhost:8080/",
          "height": 186
        },
        "id": "Lb9CsvvQNR9K",
        "outputId": "155f1b61-b14e-4e4d-864b-cd2d5a9dc205"
      },
      "execution_count": null,
      "outputs": [
        {
          "output_type": "display_data",
          "data": {
            "text/plain": [
              "<IPython.core.display.Markdown object>"
            ],
            "text/markdown": "**`Final Response:`** Based on the information provided, OpenAI and Meta are taking somewhat different approaches with their AI tools:\n\nOpenAI is positioning ChatGPT more as a productivity tool - a utility for getting things done. The recent addition of voice interaction and image analysis capabilities make ChatGPT more powerful and useful in a wider range of scenarios. The voice feature in particular hints at ChatGPT's potential to serve as an AI companion.\n\nIn contrast, Meta is focusing more on the entertainment potential of AI. They have unveiled personality-driven AI chatbots that use the voices of celebrities like Snoop Dogg and Kendall Jenner. These seem designed more for novelty and fan engagement rather than productivity. \n\nSo while OpenAI is building general-purpose AI assistants, Meta is creating specific AI characters meant to entertain. However, both companies are exploring how voice interaction and virtual personas could change how people interact with AI systems in their products and platforms going forward. The article suggests this could lead to more \"synthetic\" social networks."
          },
          "metadata": {}
        }
      ]
    },
    {
      "cell_type": "markdown",
      "source": [
        "### Refine"
      ],
      "metadata": {
        "id": "p8WNEWO6NeEJ"
      }
    },
    {
      "cell_type": "code",
      "source": [
        "query_engine = vector_index.as_query_engine(response_mode=\"refine\")\n",
        "\n",
        "response = query_engine.query(\"How do OpenAI and Meta differ on AI tools?\")\n",
        "\n",
        "display_response(response)"
      ],
      "metadata": {
        "colab": {
          "base_uri": "https://localhost:8080/",
          "height": 266
        },
        "id": "91CZsrtjNi4I",
        "outputId": "8e1c7a39-7229-464d-98aa-83f5b47ceca2"
      },
      "execution_count": null,
      "outputs": [
        {
          "output_type": "display_data",
          "data": {
            "text/plain": [
              "<IPython.core.display.Markdown object>"
            ],
            "text/markdown": "**`Final Response:`** Based on the context, OpenAI and Meta differ in their approach to AI tools in a few key ways:\n\n1. Purpose - OpenAI tends to present its AI products like ChatGPT as productivity tools for getting things done. In contrast, Meta is more focused on using AI for entertainment purposes in its social apps.\n\n2. Voice AI - OpenAI has recently added voice interaction capabilities to ChatGPT, allowing users to speak with the AI model using one of five native voices. Meta has created personality-driven AI chatbots that use celebrity voices to interact with users in its messaging apps. \n\n3. Integration - Meta plans to deeply integrate its AI characters across all its major products, including giving them Facebook pages, Instagram accounts, and the ability to message users. OpenAI's tools are more standalone utilities rather than being embedded into a larger social network.\n\n4. Synthetic Personas - Meta is experimenting with giving its AI chatbots synthetic personalities, whereas OpenAI's tools aim to be more general purpose assistants without a defined persona, although the addition of voice is starting to give ChatGPT a hint of personality.\n\nSo in summary, while both companies are exploring voice-based AI, OpenAI is focused on enhancing its productivity-oriented tools with voice interaction, while Meta is doubling down on personality-driven AI entertainment that is tightly woven into its social platforms."
          },
          "metadata": {}
        }
      ]
    },
    {
      "cell_type": "markdown",
      "source": [
        "### Tree Summarize"
      ],
      "metadata": {
        "id": "EBr8vyabNSmK"
      }
    },
    {
      "cell_type": "code",
      "source": [
        "query_engine = vector_index.as_query_engine(response_mode=\"tree_summarize\")\n",
        "\n",
        "response = query_engine.query(\"How do OpenAI and Meta differ on AI tools?\")\n",
        "\n",
        "display_response(response)"
      ],
      "metadata": {
        "id": "X3YTKZXVNZ0R"
      },
      "execution_count": null,
      "outputs": []
    },
    {
      "cell_type": "markdown",
      "source": [
        "## Router Query Engine"
      ],
      "metadata": {
        "id": "aCdR2_wmNol6"
      }
    },
    {
      "cell_type": "code",
      "source": [
        "from llama_index.core.tools import QueryEngineTool, ToolMetadata\n",
        "\n",
        "vector_tool = QueryEngineTool(\n",
        "    vector_index.as_query_engine(),\n",
        "    metadata=ToolMetadata(\n",
        "        name=\"vector_search\",\n",
        "        description=\"Useful for searching for specific facts.\"\n",
        "    )\n",
        ")\n",
        "\n",
        "summary_tool = QueryEngineTool(\n",
        "    summary_index.as_query_engine(response_mode=\"tree_summarize\"),\n",
        "    metadata=ToolMetadata(\n",
        "        name=\"summary\",\n",
        "        description=\"Useful for summarizing an entire document.\"\n",
        "    )\n",
        ")"
      ],
      "metadata": {
        "id": "axuO04J9SdZ_"
      },
      "execution_count": null,
      "outputs": []
    },
    {
      "cell_type": "markdown",
      "source": [
        "### Single Selector"
      ],
      "metadata": {
        "id": "C7YhReZgNuoj"
      }
    },
    {
      "cell_type": "code",
      "source": [
        "from llama_index.core.query_engine import RouterQueryEngine\n",
        "\n",
        "query_engine = RouterQueryEngine.from_defaults(\n",
        "    [vector_tool, summary_tool],\n",
        "    select_multi=False,\n",
        ")\n",
        "\n",
        "# this doesn't work\n",
        "# response = query_engine.query(\"What was mentioned about Meta?\")\n",
        "\n",
        "# this works\n",
        "response = query_engine.query(\"What was mentioned about Meta? Use a tool.\")\n",
        "\n",
        "display_response(response)"
      ],
      "metadata": {
        "colab": {
          "base_uri": "https://localhost:8080/",
          "height": 239
        },
        "id": "S7Dv6ENHNuI8",
        "outputId": "9b5a8425-d25f-42c2-cfe4-8abc85ddde5a"
      },
      "execution_count": null,
      "outputs": [
        {
          "output_type": "display_data",
          "data": {
            "text/plain": [
              "<IPython.core.display.Markdown object>"
            ],
            "text/markdown": "**`Final Response:`** According to the article, Meta is doing the following related to AI:\n\n- Meta is building large language models (LLMs), like OpenAI, but is focused more on using them for entertainment rather than just productivity.\n\n- Meta unveiled 28 personality-driven AI chatbots that will be used in its messaging apps. These bots use the voices of celebrities like Charli D'Amelio, Snoop Dogg, Tom Brady, and Paris Hilton. \n\n- The celebrity AI characters come with brief descriptions, like MrBeast's bot Zach being described as \"the big brother who will roast you — because he cares.\"\n\n- Meta plans to place these AI characters on every major surface of its products - they will have Facebook pages, Instagram accounts, and users can message them in the same inbox as friends and family. Soon they may also be making Reels videos.\n\n- In addition to the chatbots, Meta also announced AI-generated stickers that will be coming to its messaging apps.\n\nSo in summary, Meta is investing heavily in using generative AI and voice technology to create a range of entertaining AI characters and features that will be integrated throughout its social platforms. This represents a shift towards feeds becoming a \"partially synthetic social network.\""
          },
          "metadata": {}
        }
      ]
    },
    {
      "cell_type": "code",
      "source": [
        "len(response.source_nodes)"
      ],
      "metadata": {
        "colab": {
          "base_uri": "https://localhost:8080/"
        },
        "id": "0cjfGnK4qEoJ",
        "outputId": "29d764e7-f11e-42ef-c8f1-354b32f4fc55"
      },
      "execution_count": null,
      "outputs": [
        {
          "output_type": "execute_result",
          "data": {
            "text/plain": [
              "2"
            ]
          },
          "metadata": {},
          "execution_count": 24
        }
      ]
    },
    {
      "cell_type": "markdown",
      "source": [
        "### Multi Selector"
      ],
      "metadata": {
        "id": "4bfvsADtNweD"
      }
    },
    {
      "cell_type": "code",
      "source": [
        "from llama_index.core.query_engine import RouterQueryEngine\n",
        "\n",
        "query_engine = RouterQueryEngine.from_defaults(\n",
        "    [vector_tool, summary_tool],\n",
        "    select_multi=True,\n",
        ")\n",
        "\n",
        "response = query_engine.query(\"What was mentioned about Meta? Summarize with any other companies mentioned in the entire document.\")\n",
        "\n",
        "display_response(response)"
      ],
      "metadata": {
        "colab": {
          "base_uri": "https://localhost:8080/",
          "height": 156
        },
        "id": "VKqv3-txNwQS",
        "outputId": "1407c238-63f1-4e49-f0f0-4c121a99278e"
      },
      "execution_count": null,
      "outputs": [
        {
          "output_type": "display_data",
          "data": {
            "text/plain": [
              "<IPython.core.display.Markdown object>"
            ],
            "text/markdown": "**`Final Response:`** According to the article, Meta is building large language models (LLMs) and has found uses for generative AI and voices in its products. The company unveiled 28 personality-driven chatbots with celebrity voices like Charli D'Amelio, Dwyane Wade, Kendall Jenner, MrBeast, Snoop Dogg, Tom Brady, and Paris Hilton to be used in its messaging apps. Meta plans to place these AI characters on every major surface of its products, including Facebook pages, Instagram accounts, and messaging inboxes. The article suggests this could lead to a partially synthetic social network.\n\nThe article also mentions OpenAI, which recently announced updates to ChatGPT that allow voice interaction and image uploading for questions. The author believes adding a voice to ChatGPT begins to give it a hint of personality, and could lead to AI companions that are smarter, more patient, empathetic and available than real people. However, OpenAI tends to present its products more as productivity tools compared to Meta's entertainment focus."
          },
          "metadata": {}
        }
      ]
    },
    {
      "cell_type": "markdown",
      "source": [
        "## SubQuestion Query Engine"
      ],
      "metadata": {
        "id": "0Xb4uNjSNyrQ"
      }
    },
    {
      "cell_type": "code",
      "source": [
        "from llama_index.core.tools import QueryEngineTool, ToolMetadata\n",
        "\n",
        "vector_tool = QueryEngineTool(\n",
        "    vector_index.as_query_engine(),\n",
        "    metadata=ToolMetadata(\n",
        "        name=\"vector_search\",\n",
        "        description=\"Useful for searching for specific facts.\"\n",
        "    )\n",
        ")\n",
        "\n",
        "summary_tool = QueryEngineTool(\n",
        "    summary_index.as_query_engine(response_mode=\"tree_summarize\"),\n",
        "    metadata=ToolMetadata(\n",
        "        name=\"summary\",\n",
        "        description=\"Useful for summarizing an entire document.\"\n",
        "    )\n",
        ")"
      ],
      "metadata": {
        "id": "fWZeIoZgNyVc"
      },
      "execution_count": null,
      "outputs": []
    },
    {
      "cell_type": "code",
      "source": [
        "import nest_asyncio\n",
        "nest_asyncio.apply()"
      ],
      "metadata": {
        "id": "s4aihq2Gagsl"
      },
      "execution_count": null,
      "outputs": []
    },
    {
      "cell_type": "code",
      "source": [
        "from llama_index.core.query_engine import SubQuestionQueryEngine\n",
        "\n",
        "query_engine = SubQuestionQueryEngine.from_defaults(\n",
        "    [vector_tool, summary_tool],\n",
        "    verbose=True,\n",
        ")\n",
        "\n",
        "response = query_engine.query(\"What was mentioned about Meta? How Does it differ from how OpenAI is talked about?\")\n",
        "\n",
        "display_response(response)"
      ],
      "metadata": {
        "colab": {
          "base_uri": "https://localhost:8080/",
          "height": 1000
        },
        "id": "iTnorfujaT8H",
        "outputId": "4ddc8295-b384-4c16-e754-847308c489f4"
      },
      "execution_count": null,
      "outputs": [
        {
          "output_type": "stream",
          "name": "stdout",
          "text": [
            "Generated 5 sub questions.\n",
            "\u001b[1;3;38;2;237;90;200m[vector_search] Q: What was mentioned about Meta in the document?\n",
            "\u001b[0m\u001b[1;3;38;2;90;149;237m[summary] Q: Summarize the key points about how Meta is discussed in the document.\n",
            "\u001b[0m\u001b[1;3;38;2;11;159;203m[vector_search] Q: What was mentioned about OpenAI in the document?\n",
            "\u001b[0m\u001b[1;3;38;2;155;135;227m[summary] Q: Summarize the key points about how OpenAI is discussed in the document.\n",
            "\u001b[0m\u001b[1;3;38;2;237;90;200m[summary] Q: Compare and contrast the key differences in how Meta and OpenAI are discussed based on the summaries.\n",
            "\u001b[0m\u001b[1;3;38;2;237;90;200m[vector_search] A: According to the document, Meta unveiled the following related to generative AI:\n",
            "\n",
            "- In addition to an all-purpose AI assistant, Meta revealed 28 personality-driven chatbots to be used in its messaging apps. \n",
            "\n",
            "- Celebrities like Charli D'Amelio, Dwyane Wade, Kendall Jenner, MrBeast, Snoop Dogg, Tom Brady, and Paris Hilton lent their voices to these chatbots. Each chatbot character comes with a brief description.\n",
            "\n",
            "- Meta plans to place its AI characters on every major surface of its products, including giving them Facebook pages, Instagram accounts, and having users message them in the same inbox as friends and family. \n",
            "\n",
            "- Meta also announced AI-generated imagery in the form of new stickers coming to its messaging apps.\n",
            "\u001b[0m\u001b[1;3;38;2;90;149;237m[summary] A: Based on the information provided, here are the key points about how Meta is discussed:\n",
            "\n",
            "1. Meta is building large language models (LLMs) and finding uses for generative AI and voices in its products, similar to OpenAI but with more of an entertainment focus.\n",
            "\n",
            "2. Meta unveiled 28 personality-driven chatbots voiced by celebrities like Charli D'Amelio, Snoop Dogg, and Paris Hilton to be used in its messaging apps. However, these seem like an intermediate step before potentially allowing direct interaction with AI versions of the celebrities themselves.\n",
            "\n",
            "3. Meta plans to place its AI characters across all major surfaces of its products, including giving them Facebook pages, Instagram accounts, and allowing users to message them alongside friends and family. \n",
            "\n",
            "4. This represents a shift where social media feeds that were once defined by human connections will become partially synthetic, blending AI-generated content alongside posts from real people. It's unclear if this will make the experience more engaging or feel uncanny to users.\n",
            "\n",
            "5. Other ways Meta is integrating AI in social feeds include AI-generated imagery like stickers in its messaging apps.\n",
            "\u001b[0m\u001b[1;3;38;2;237;90;200m[summary] A: Based on the article, there are a few key differences in how Meta and OpenAI's AI efforts are discussed:\n",
            "\n",
            "1. Purpose - OpenAI tends to present its products like ChatGPT as productivity tools for getting things done. In contrast, Meta is focused more on the entertainment potential of AI, as evidenced by its personality-driven chatbots.\n",
            "\n",
            "2. Voices - OpenAI has added voice interaction to ChatGPT, giving it a hint of personality through its earnest and upbeat voices. Meta has taken voice a step further by partnering with celebrities to lend their voices to AI chatbot characters. \n",
            "\n",
            "3. Integration - Meta plans to deeply integrate its AI characters across its products, giving them Facebook pages, Instagram accounts, and the ability to message users. The article doesn't mention similar social network integration plans for OpenAI.\n",
            "\n",
            "4. Synthetic companions - The article suggests OpenAI's speaking ChatGPT could evolve into an empathetic synthetic companion, especially valuable for those who are lonely or isolated. Meta's celebrity-voiced characters seem more focused on novelty and entertainment value currently.\n",
            "\n",
            "5. Feeds - The article posits that Meta placing AI characters throughout its products could make social feeds partially synthetic, a significant shift. OpenAI's productivity focus suggests less direct impact on social networking paradigms.\n",
            "\u001b[0m\u001b[1;3;38;2;155;135;227m[summary] A: Based on the information provided, here are the key points about how OpenAI is discussed:\n",
            "\n",
            "1. OpenAI recently announced updates to ChatGPT, including the ability to interact with the language model via voice and upload images to ask questions about them. This makes ChatGPT more powerful and useful, especially on mobile.\n",
            "\n",
            "2. Adding a voice to ChatGPT begins to give it a hint of personality. The voices are earnest, upbeat and tireless compared to other AI assistants. This is an early step towards AI companions envisioned in science fiction.\n",
            "\n",
            "3. The speaking version of ChatGPT can provide things like pep talks and affirmations in a warm, kindly voice. This could be especially impactful for those who are lonely or isolated. \n",
            "\n",
            "4. OpenAI tends to present its products like ChatGPT as productivity tools and utilities for getting things done. This contrasts with Meta's approach of using AI for entertainment.\n",
            "\n",
            "In summary, the recent voice and image capabilities added to ChatGPT by OpenAI represent a significant step forward in making the AI assistant more personable, useful and emotionally resonant, even as OpenAI positions it as a productivity aid.\n",
            "\u001b[0m\u001b[1;3;38;2;11;159;203m[vector_search] A: According to the article, OpenAI recently announced updates to ChatGPT that allow users to interact with the large language model via voice and upload images to ask questions about them. This makes ChatGPT more powerful as a mobile app, allowing users to chat with it while on the go or snap pictures to identify things like trees. \n",
            "\n",
            "The article suggests that adding voice capabilities begins to give ChatGPT a hint of personality, with the AI's voices described as earnest, upbeat and tireless compared to assistants like Alexa. While still in an early stage, the speaking version of ChatGPT is seen as a step towards the kind of AI companion envisioned in the movie Her - one that is warm, empathetic and helpful to the point users could fall in love with it. \n",
            "\n",
            "The article contrasts OpenAI's positioning of its products as productivity tools with Meta's entertainment focus. However, both companies are building large language models and finding uses for generative AI and voice technology.\n",
            "\u001b[0m"
          ]
        },
        {
          "output_type": "display_data",
          "data": {
            "text/plain": [
              "<IPython.core.display.Markdown object>"
            ],
            "text/markdown": "**`Final Response:`** According to the article, Meta is taking a different approach to generative AI compared to OpenAI:\n\n1. Meta unveiled 28 personality-driven chatbots voiced by celebrities like Charli D'Amelio, Snoop Dogg, and Paris Hilton to be used in its messaging apps. This entertainment focus contrasts with OpenAI positioning products like ChatGPT as productivity tools.\n\n2. Meta plans to deeply integrate its AI characters across its products, giving them Facebook pages, Instagram accounts, and allowing users to message them alongside friends and family. This could make social media feeds partially synthetic. The article doesn't mention similar social network integration plans for OpenAI.\n\n3. While OpenAI's speaking ChatGPT is seen as an early step towards empathetic AI companions, Meta's celebrity-voiced characters seem more focused on novelty and entertainment value currently. \n\n4. Meta is also integrating AI-generated imagery like stickers in its messaging apps. OpenAI recently added the ability to upload images to ChatGPT to ask questions about them.\n\nIn summary, Meta appears to be leaning into the entertainment potential of generative AI with celebrity voices and prominent placement in its social products, while OpenAI is focused more on enhancing productivity with features that make ChatGPT more useful and relatable. However, both companies are investing heavily in large language models and voice interaction."
          },
          "metadata": {}
        }
      ]
    },
    {
      "cell_type": "markdown",
      "source": [
        "## SQL Query Engine\n",
        "\n",
        "Here, we download and use a sample SQLite database with 11 tables, with various info about music, playlists, and customers. We will limit to a select few tables for this test."
      ],
      "metadata": {
        "id": "Lkkx29-lN0jJ"
      }
    },
    {
      "cell_type": "code",
      "source": [
        "!curl https://www.sqlitetutorial.net/wp-content/uploads/2018/03/chinook.zip -O /content/chinook.zip\n",
        "!unzip /content/chinook.zip"
      ],
      "metadata": {
        "colab": {
          "base_uri": "https://localhost:8080/"
        },
        "id": "7IrjMhxlN1eI",
        "outputId": "fc1ee1ad-d273-4fd6-b24b-bd7b6198467c"
      },
      "execution_count": null,
      "outputs": [
        {
          "output_type": "stream",
          "name": "stdout",
          "text": [
            "  % Total    % Received % Xferd  Average Speed   Time    Time     Time  Current\n",
            "                                 Dload  Upload   Total   Spent    Left  Speed\n",
            "\r  0     0    0     0    0     0      0      0 --:--:-- --:--:-- --:--:--     0\r100  298k  100  298k    0     0  1991k      0 --:--:-- --:--:-- --:--:-- 2002k\n",
            "curl: (3) URL using bad/illegal format or missing URL\n",
            "Archive:  /content/chinook.zip\n",
            "  inflating: chinook.db              \n"
          ]
        }
      ]
    },
    {
      "cell_type": "code",
      "source": [
        "from sqlalchemy import create_engine, MetaData, Table, Column, String, Integer, select, column\n",
        "\n",
        "engine = create_engine(\"sqlite:////content/chinook.db\")"
      ],
      "metadata": {
        "id": "__yAhMDtbsDb"
      },
      "execution_count": null,
      "outputs": []
    },
    {
      "cell_type": "code",
      "source": [
        "from llama_index.core import SQLDatabase\n",
        "\n",
        "sql_database = SQLDatabase(engine)"
      ],
      "metadata": {
        "id": "IUV_QU0cb7S4"
      },
      "execution_count": null,
      "outputs": []
    },
    {
      "cell_type": "code",
      "source": [
        "from llama_index.core.indices.struct_store import NLSQLTableQueryEngine\n",
        "\n",
        "query_engine = NLSQLTableQueryEngine(\n",
        "    sql_database=sql_database,\n",
        "    tables=[\"albums\", \"tracks\", \"artists\"],\n",
        "    verbose=True\n",
        ")"
      ],
      "metadata": {
        "id": "WQZbzQuRcHd5"
      },
      "execution_count": null,
      "outputs": []
    },
    {
      "cell_type": "code",
      "source": [
        "response = query_engine.query(\"What are some albums?\")\n",
        "\n",
        "display_response(response)"
      ],
      "metadata": {
        "colab": {
          "base_uri": "https://localhost:8080/",
          "height": 179
        },
        "id": "W-_rUwszcQCD",
        "outputId": "b88b05ce-ed08-484e-df24-0e656fc7c229"
      },
      "execution_count": null,
      "outputs": [
        {
          "output_type": "display_data",
          "data": {
            "text/plain": [
              "<IPython.core.display.Markdown object>"
            ],
            "text/markdown": "**`Final Response:`** Here are some album titles from the query results:\n\n1. ...And Justice For All\n2. 20th Century Masters - The Millennium Collection: The Best of Scorpions  \n3. A Copland Celebration, Vol. I\n4. A Matter of Life and Death\n5. A Real Dead One\n\nThe query selects the Title column from an albums table, orders the results alphabetically by title, and limits the output to 5 rows."
          },
          "metadata": {}
        }
      ]
    },
    {
      "cell_type": "code",
      "source": [
        "response = query_engine.query(\"What are some artists? Limit it to 5.\")\n",
        "\n",
        "display_response(response)"
      ],
      "metadata": {
        "colab": {
          "base_uri": "https://localhost:8080/",
          "height": 155
        },
        "id": "300SGKKzcb4b",
        "outputId": "dcea42c5-923e-4e6e-90f9-db5f0830ade0"
      },
      "execution_count": null,
      "outputs": [
        {
          "output_type": "display_data",
          "data": {
            "text/plain": [
              "<IPython.core.display.Markdown object>"
            ],
            "text/markdown": "**`Final Response:`** Here are 5 artists from the database:\n\n1. AC/DC\n2. Accept \n3. Aerosmith\n4. Alanis Morissette\n5. Alice In Chains"
          },
          "metadata": {}
        }
      ]
    },
    {
      "cell_type": "markdown",
      "source": [
        "This last query should be a more complex join"
      ],
      "metadata": {
        "id": "smjsFMQSeQMJ"
      }
    },
    {
      "cell_type": "code",
      "source": [
        "response = query_engine.query(\"What are some tracks from the artist AC/DC? Limit it to 3\")\n",
        "\n",
        "display_response(response)"
      ],
      "metadata": {
        "colab": {
          "base_uri": "https://localhost:8080/",
          "height": 120
        },
        "id": "EeXqw3sacmie",
        "outputId": "4ddd14d2-fb2c-4d4e-8b02-e6b8e0527dd9"
      },
      "execution_count": null,
      "outputs": [
        {
          "output_type": "display_data",
          "data": {
            "text/plain": [
              "<IPython.core.display.Markdown object>"
            ],
            "text/markdown": "**`Final Response:`** Here are 3 tracks from the artist AC/DC:\n\n1. \"For Those About To Rock (We Salute You)\" from the album For Those About To Rock We Salute You\n2. \"Put The Finger On You\" from the album For Those About To Rock We Salute You  \n3. \"Let's Get It Up\" from the album For Those About To Rock We Salute You"
          },
          "metadata": {}
        }
      ]
    },
    {
      "cell_type": "code",
      "source": [
        "print(response.metadata['sql_query'])"
      ],
      "metadata": {
        "colab": {
          "base_uri": "https://localhost:8080/"
        },
        "id": "M_6qV0y7eS_t",
        "outputId": "66b560d0-a0c7-43dc-e7a1-41cad5965d84"
      },
      "execution_count": null,
      "outputs": [
        {
          "output_type": "stream",
          "name": "stdout",
          "text": [
            "SELECT tracks.Name, albums.Title \n",
            "FROM tracks\n",
            "JOIN albums ON tracks.AlbumId = albums.AlbumId\n",
            "JOIN artists ON albums.ArtistId = artists.ArtistId\n",
            "WHERE artists.Name = 'AC/DC'\n",
            "LIMIT 3;\n"
          ]
        }
      ]
    },
    {
      "cell_type": "markdown",
      "source": [
        "## Programs\n",
        "\n",
        "We use our `LLMTextCompletionProgram`, which uses standard prompting to coerce the model into outputting JSON.\n",
        "\n",
        "Claude 3 of course has function calling support, testing that is TBD."
      ],
      "metadata": {
        "id": "UGDmqtwBO0wM"
      }
    },
    {
      "cell_type": "code",
      "source": [
        "from typing import List\n",
        "from pydantic import BaseModel\n",
        "\n",
        "from llama_index.core.program import LLMTextCompletionProgram\n",
        "from llama_index.program.openai import OpenAIPydanticProgram\n",
        "\n",
        "class Song(BaseModel):\n",
        "    \"\"\"Data model for a song.\"\"\"\n",
        "\n",
        "    title: str\n",
        "    length_seconds: int\n",
        "\n",
        "\n",
        "class Album(BaseModel):\n",
        "    \"\"\"Data model for an album.\"\"\"\n",
        "\n",
        "    name: str\n",
        "    artist: str\n",
        "    songs: List[Song]"
      ],
      "metadata": {
        "id": "UJA5VfB6O0kp"
      },
      "execution_count": null,
      "outputs": []
    },
    {
      "cell_type": "code",
      "source": [
        "from llama_index.core.output_parsers import PydanticOutputParser\n",
        "\n",
        "prompt_template_str = \"\"\"\\\n",
        "Generate an example album, with an artist and a list of songs. \\\n",
        "Using the movie {movie_name} as inspiration.\\\n",
        "\"\"\"\n",
        "program = LLMTextCompletionProgram.from_defaults(\n",
        "    output_cls=Album,\n",
        "    prompt_template_str=prompt_template_str,\n",
        "    llm=llm,\n",
        "    verbose=True,\n",
        ")"
      ],
      "metadata": {
        "id": "sYinxYiufjLe"
      },
      "execution_count": null,
      "outputs": []
    },
    {
      "cell_type": "code",
      "source": [
        "output = program(movie_name=\"The Shining\")"
      ],
      "metadata": {
        "id": "vDGnFiMcgAli"
      },
      "execution_count": null,
      "outputs": []
    },
    {
      "cell_type": "code",
      "source": [
        "print(output)\n",
        "print(type(output))"
      ],
      "metadata": {
        "colab": {
          "base_uri": "https://localhost:8080/"
        },
        "id": "JvoAxKsvA_b8",
        "outputId": "d7e27954-0370-4a13-fd7f-ed8f5c887345"
      },
      "execution_count": null,
      "outputs": [
        {
          "output_type": "stream",
          "name": "stdout",
          "text": [
            "name='Overlook Hotel' artist='The Torrance Trio' songs=[Song(title='All Work and No Play', length_seconds=243), Song(title='Redrum Lullaby', length_seconds=186), Song(title=\"Here's Johnny!\", length_seconds=157), Song(title='Midnight Maze', length_seconds=301), Song(title='Elevator of Blood', length_seconds=222), Song(title='Twins in the Hallway', length_seconds=179), Song(title='Typewriter Serenade', length_seconds=289), Song(title='Room 237 Blues', length_seconds=213), Song(title='Axe Swing Waltz', length_seconds=197), Song(title='Snowy Hedge Maze', length_seconds=312)]\n",
            "<class '__main__.Album'>\n"
          ]
        }
      ]
    },
    {
      "cell_type": "markdown",
      "source": [
        "## Data Agent\n",
        "\n",
        "We use our `ReActAgent`."
      ],
      "metadata": {
        "id": "Pzh9E0jRN_mD"
      }
    },
    {
      "cell_type": "code",
      "source": [
        "from llama_index.core.agent import ReActAgent\n",
        "\n",
        "agent = ReActAgent.from_tools(\n",
        "    [vector_tool, summary_tool],\n",
        "    llm=llm,\n",
        "    verbose=True\n",
        ")"
      ],
      "metadata": {
        "id": "BXdFusIKN_aD"
      },
      "execution_count": null,
      "outputs": []
    },
    {
      "cell_type": "code",
      "source": [
        "response = agent.chat(\"Hello!\")\n",
        "print(response)"
      ],
      "metadata": {
        "colab": {
          "base_uri": "https://localhost:8080/"
        },
        "id": "O53iJJ5Yg3Wd",
        "outputId": "f3c5f40d-6f51-4313-eb06-eef67605916a"
      },
      "execution_count": null,
      "outputs": [
        {
          "output_type": "stream",
          "name": "stdout",
          "text": [
            "\u001b[1;3;38;5;200mThought: I don't need any tools to respond to a simple greeting.\n",
            "Answer: Hello! How can I assist you today?\n",
            "\u001b[0mHello! How can I assist you today?\n"
          ]
        }
      ]
    },
    {
      "cell_type": "code",
      "source": [
        "# vector_tool.call(input=\"What was mentioned about Meta? How does it differ from how OpenAI is talked about?\")"
      ],
      "metadata": {
        "id": "MT7bXUYrFYTP"
      },
      "execution_count": null,
      "outputs": []
    },
    {
      "cell_type": "code",
      "source": [
        "response = agent.chat(\"What was mentioned about Meta? How Does it differ from how OpenAI is talked about?\")\n",
        "print(response)"
      ],
      "metadata": {
        "colab": {
          "base_uri": "https://localhost:8080/"
        },
        "id": "0HMgXZ4Zg_ls",
        "outputId": "75eadc6e-ac9e-400b-8e90-45ffb45e687f"
      },
      "execution_count": null,
      "outputs": [
        {
          "output_type": "stream",
          "name": "stdout",
          "text": [
            "\u001b[1;3;38;5;200mThought: To answer this question, I will need to search the provided documents for mentions of Meta and OpenAI and summarize how they are discussed differently.\n",
            "Action: vector_search\n",
            "Action Input: {'input': 'Meta'}\n",
            "\u001b[0m\u001b[1;3;34mObservation: Meta recently unveiled 28 personality-driven AI chatbots for its messaging apps, featuring the voices of celebrities like Charli D'Amelio, Snoop Dogg, and Paris Hilton. Each chatbot has a unique character - for example, MrBeast's bot is described as \"the big brother who will roast you — because he cares.\" \n",
            "\n",
            "Meta plans to integrate these AI characters across its products, giving them Facebook pages, Instagram accounts, and the ability to message users directly. This represents a new direction for social networking, where synthetic AI-powered personas will increasingly populate feeds alongside content from real human connections.\n",
            "\n",
            "It's still early days for this technology. The current celebrity chatbots seem more like a novelty, and the celebrities themselves likely aren't ready to fully entrust their personas to Meta's AI just yet. But in the future, interacting extensively with realistic AI versions of favorite celebrities could become a significant use case on Meta's platforms. How this synthetic social networking model is received - as more personalized and entertaining, or uncanny and hollow - remains to be seen as the technology develops.\n",
            "\u001b[0m\u001b[1;3;38;5;200mThought: The search results provide some useful information about how Meta is approaching AI chatbots, but to fully answer the question I should also search for mentions of OpenAI to see how the two companies are discussed differently.\n",
            "Action: vector_search\n",
            "Action Input: {'input': 'OpenAI'}\n",
            "\u001b[0m\u001b[1;3;34mObservation: OpenAI recently announced updates to ChatGPT that allow users to interact with the AI model via voice and upload images to ask questions about them. These new features make ChatGPT more powerful and useful, especially on mobile devices. The addition of voice interaction also begins to give ChatGPT a hint of personality, with its earnest and upbeat voice options. While still in the early stages, these developments point towards a future where AI companions become increasingly warm, empathetic and helpful to users.\n",
            "\u001b[0m\u001b[1;3;38;5;200mThought: The search results highlight some key differences in how Meta and OpenAI are approaching AI chatbots and language models:\n",
            "\n",
            "- Meta is focused on creating a variety of distinct AI personalities, often based on celebrities, that can populate its social media platforms. The goal seems to be entertainment and engagement.\n",
            "\n",
            "- OpenAI, with ChatGPT, is more focused on creating a powerful and useful AI assistant. New features like voice interaction and image understanding make ChatGPT more capable as a general-purpose AI companion. \n",
            "\n",
            "- Meta's chatbots are described more as a novelty in their current state, while ChatGPT's updates are framed as important steps towards truly helpful AI assistants.\n",
            "\n",
            "- The article expresses more uncertainty about how Meta's \"synthetic social networking\" approach will be received, while ChatGPT's increasing warmth and capability is discussed more positively.\n",
            "\n",
            "I believe I can now provide a summary to answer the original question.\n",
            "Answer: Based on the articles, Meta and OpenAI are taking different approaches to AI chatbots and language models. Meta is focused on creating a variety of entertaining AI personalities, often based on celebrities, to populate its social media platforms. This \"synthetic social networking\" model is still a novelty and it's unclear how it will be received. \n",
            "\n",
            "OpenAI, on the other hand, is steadily making ChatGPT more powerful and useful as a general-purpose AI assistant, with new features like voice interaction and image understanding. ChatGPT's development is framed more positively, as important progress towards truly warm and helpful AI companions.\n",
            "\n",
            "So in summary, Meta's efforts are more focused on entertainment and engagement, while OpenAI seems to be aiming to create a powerful and empathetic AI assistant for general use. The long-term outlooks discussed for the two approaches also differ somewhat in tone.\n",
            "\u001b[0mBased on the articles, Meta and OpenAI are taking different approaches to AI chatbots and language models. Meta is focused on creating a variety of entertaining AI personalities, often based on celebrities, to populate its social media platforms. This \"synthetic social networking\" model is still a novelty and it's unclear how it will be received. \n",
            "\n",
            "OpenAI, on the other hand, is steadily making ChatGPT more powerful and useful as a general-purpose AI assistant, with new features like voice interaction and image understanding. ChatGPT's development is framed more positively, as important progress towards truly warm and helpful AI companions.\n",
            "\n",
            "So in summary, Meta's efforts are more focused on entertainment and engagement, while OpenAI seems to be aiming to create a powerful and empathetic AI assistant for general use. The long-term outlooks discussed for the two approaches also differ somewhat in tone.\n"
          ]
        }
      ]
    },
    {
      "cell_type": "code",
      "source": [],
      "metadata": {
        "id": "p5t7TjwhBBCt"
      },
      "execution_count": null,
      "outputs": []
    }
  ]
}