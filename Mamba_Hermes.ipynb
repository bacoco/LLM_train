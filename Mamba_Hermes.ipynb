{
  "nbformat": 4,
  "nbformat_minor": 0,
  "metadata": {
    "colab": {
      "provenance": [],
      "gpuType": "T4",
      "include_colab_link": true
    },
    "kernelspec": {
      "name": "python3",
      "display_name": "Python 3"
    },
    "language_info": {
      "name": "python"
    },
    "accelerator": "GPU"
  },
  "cells": [
    {
      "cell_type": "markdown",
      "metadata": {
        "id": "view-in-github",
        "colab_type": "text"
      },
      "source": [
        "<a href=\"https://colab.research.google.com/github/bacoco/LLM_train/blob/main/Mamba_Hermes.ipynb\" target=\"_parent\"><img src=\"https://colab.research.google.com/assets/colab-badge.svg\" alt=\"Open In Colab\"/></a>"
      ]
    },
    {
      "cell_type": "code",
      "execution_count": null,
      "metadata": {
        "id": "rbjHBJ2DZzGm"
      },
      "outputs": [],
      "source": [
        "pip install -q torch==2.1.0 transformers==4.35.0 causal-conv1d==1.0.0 mamba-ssm==1.0.1\n"
      ]
    },
    {
      "cell_type": "code",
      "source": [
        "#fix AssertionError: libcuda.so cannot found!\n",
        "!echo /usr/lib64-nvidia/ >/etc/ld.so.conf.d/libcuda.conf; ldconfig\n"
      ],
      "metadata": {
        "id": "xb8Ei4dYasyc",
        "colab": {
          "base_uri": "https://localhost:8080/"
        },
        "outputId": "1a5012a8-f6d0-4b4b-a02e-27814efe3e3e"
      },
      "execution_count": null,
      "outputs": [
        {
          "output_type": "stream",
          "name": "stdout",
          "text": [
            "/sbin/ldconfig.real: /usr/local/lib/libtbbmalloc_proxy.so.2 is not a symbolic link\n",
            "\n",
            "/sbin/ldconfig.real: /usr/local/lib/libtbbbind_2_0.so.3 is not a symbolic link\n",
            "\n",
            "/sbin/ldconfig.real: /usr/local/lib/libtbbbind_2_5.so.3 is not a symbolic link\n",
            "\n",
            "/sbin/ldconfig.real: /usr/local/lib/libtbbmalloc.so.2 is not a symbolic link\n",
            "\n",
            "/sbin/ldconfig.real: /usr/local/lib/libtbbbind.so.3 is not a symbolic link\n",
            "\n",
            "/sbin/ldconfig.real: /usr/local/lib/libtbb.so.12 is not a symbolic link\n",
            "\n"
          ]
        }
      ]
    },
    {
      "cell_type": "code",
      "source": [
        "import torch\n",
        "from transformers import AutoTokenizer, AutoModelForCausalLM\n",
        "from mamba_ssm.models.mixer_seq_simple import MambaLMHeadModel\n",
        "\n",
        "CHAT_TEMPLATE_ID = \"HuggingFaceH4/zephyr-7b-beta\"\n",
        "\n",
        "device = \"cuda:0\" if torch.cuda.is_available() else \"cpu\"\n",
        "model_name = \"clibrain/mamba-2.8b-instruct-openhermes\"\n",
        "\n",
        "eos_token = \"<|endoftext|>\"\n",
        "tokenizer = AutoTokenizer.from_pretrained(model_name)\n",
        "tokenizer.eos_token = eos_token\n",
        "tokenizer.pad_token = tokenizer.eos_token\n",
        "tokenizer.chat_template = AutoTokenizer.from_pretrained(CHAT_TEMPLATE_ID).chat_template\n",
        "\n",
        "model = MambaLMHeadModel.from_pretrained(\n",
        "        model_name, device=device, dtype=torch.float16)"
      ],
      "metadata": {
        "id": "zASjCLe-bhU7",
        "colab": {
          "base_uri": "https://localhost:8080/"
        },
        "outputId": "2b2c3678-aece-4699-ec80-14238624a985"
      },
      "execution_count": null,
      "outputs": [
        {
          "output_type": "stream",
          "name": "stderr",
          "text": [
            "Special tokens have been added in the vocabulary, make sure the associated word embeddings are fine-tuned or trained.\n"
          ]
        }
      ]
    },
    {
      "cell_type": "code",
      "source": [
        "\n",
        "messages = []\n",
        "prompt = \"Tell me 5 sites to visit in Bangalore\"\n",
        "messages.append(dict(role=\"user\", content=prompt))\n",
        "\n",
        "input_ids = tokenizer.apply_chat_template(\n",
        "            messages, return_tensors=\"pt\", add_generation_prompt=True\n",
        ").to(device)\n",
        "\n",
        "out = model.generate(\n",
        "    input_ids=input_ids,\n",
        "    max_length=2000,\n",
        "    temperature=0.9,\n",
        "    top_p=0.7,\n",
        "    eos_token_id=tokenizer.eos_token_id,\n",
        ")\n",
        "\n",
        "decoded = tokenizer.batch_decode(out)\n",
        "assistant_message = (\n",
        "    decoded[0].split(\"<|assistant|>\\n\")[-1].replace(eos_token, \"\")\n",
        ")\n",
        "\n",
        "messages.append(dict(role=\"assistant\", content=assistant_message))\n",
        "\n",
        "\n",
        "print(assistant_message)\n"
      ],
      "metadata": {
        "id": "llu1e4qaZ1Ui",
        "colab": {
          "base_uri": "https://localhost:8080/"
        },
        "outputId": "a08fb682-e39b-4db5-8b0b-648fec0b50c2"
      },
      "execution_count": null,
      "outputs": [
        {
          "output_type": "stream",
          "name": "stdout",
          "text": [
            "1. Mysore Palace: This is a royal palace located in Mysore, Karnataka, India. It is one of the most popular tourist attractions in the city.\n",
            "\n",
            "2. St. Mary’s Church: This is a historic church located in the heart of Bangalore. It is a popular tourist spot and is known for its beautiful architecture.\n",
            "\n",
            "3. Cubbon Park: This is a large public park located in the heart of Bangalore. It is a popular spot for people to relax, walk, and enjoy the beautiful weather.\n",
            "\n",
            "4. Vidhana Soudha: This is the administrative headquarters of the Karnataka state government. It is a beautiful building with a lot of historical significance.\n",
            "\n",
            "5. Lalbagh Fort: This is a fort located in the heart of Bangalore. It is a popular tourist spot and is known for its beautiful gardens and architecture.\n"
          ]
        }
      ]
    },
    {
      "cell_type": "code",
      "source": [
        "prompt = \"maybe in Chennai?\"\n",
        "messages.append(dict(role=\"user\", content=prompt))\n",
        "\n",
        "input_ids = tokenizer.apply_chat_template(\n",
        "            messages, return_tensors=\"pt\", add_generation_prompt=True\n",
        ").to(device)\n",
        "\n",
        "out = model.generate(\n",
        "    input_ids=input_ids,\n",
        "    max_length=2000,\n",
        "    temperature=0.9,\n",
        "    top_p=0.7,\n",
        "    eos_token_id=tokenizer.eos_token_id,\n",
        ")\n",
        "\n",
        "decoded = tokenizer.batch_decode(out)\n",
        "assistant_message = (\n",
        "    decoded[0].split(\"<|assistant|>\\n\")[-1].replace(eos_token, \"\")\n",
        ")\n",
        "\n",
        "messages.append(dict(role=\"assistant\", content=assistant_message))\n",
        "\n",
        "\n",
        "print(assistant_message)"
      ],
      "metadata": {
        "id": "buir_yDcaGh1",
        "colab": {
          "base_uri": "https://localhost:8080/"
        },
        "outputId": "6c6945e6-2b47-4fd6-b054-17eaecc85ab5"
      },
      "execution_count": null,
      "outputs": [
        {
          "output_type": "stream",
          "name": "stdout",
          "text": [
            "1. Marina Beach: This is a beautiful beach located in Chennai, Tamil Nadu, India. It is a popular tourist spot and is known for its clear waters, beautiful sunsets, and peaceful atmosphere.\n",
            "\n",
            "2. Fort St. George: This is a historic fort located in Chennai, Tamil Nadu, India. It is a popular tourist spot and is known for its beautiful architecture and history.\n",
            "\n",
            "3. Anna Square: This is a large public square located in Chennai, Tamil Nadu, India. It is a popular spot for people to relax, walk, and enjoy the beautiful weather.\n",
            "\n",
            "4. Chinna Thambireddige Temple: This is a Hindu temple located in Chennai, Tamil Nadu, India. It is a popular tourist spot and is known for its beautiful architecture and peaceful atmosphere.\n",
            "\n",
            "5. Chennai Central: This is a railway station located in Chennai, Tamil Nadu, India. It is a popular tourist spot and is known for its beautiful architecture and history.\n"
          ]
        }
      ]
    },
    {
      "cell_type": "code",
      "source": [
        "messages"
      ],
      "metadata": {
        "id": "tgSX77PZbrpD",
        "colab": {
          "base_uri": "https://localhost:8080/"
        },
        "outputId": "222df211-b6be-40cc-f59f-fc9d4175c536"
      },
      "execution_count": null,
      "outputs": [
        {
          "output_type": "execute_result",
          "data": {
            "text/plain": [
              "[{'role': 'user', 'content': 'Tell me 5 sites to visit in Bangalore'},\n",
              " {'role': 'assistant',\n",
              "  'content': '1. Mysore Palace: This is a royal palace located in Mysore, Karnataka, India. It is one of the most popular tourist attractions in the city.\\n\\n2. St. Mary’s Church: This is a historic church located in the heart of Bangalore. It is a popular tourist spot and is known for its beautiful architecture.\\n\\n3. Cubbon Park: This is a large public park located in the heart of Bangalore. It is a popular spot for people to relax, walk, and enjoy the beautiful weather.\\n\\n4. Vidhana Soudha: This is the administrative headquarters of the Karnataka state government. It is a beautiful building with a lot of historical significance.\\n\\n5. Lalbagh Fort: This is a fort located in the heart of Bangalore. It is a popular tourist spot and is known for its beautiful gardens and architecture.'},\n",
              " {'role': 'user', 'content': 'maybe in Chennai?'},\n",
              " {'role': 'assistant',\n",
              "  'content': '1. Marina Beach: This is a beautiful beach located in Chennai, Tamil Nadu, India. It is a popular tourist spot and is known for its clear waters, beautiful sunsets, and peaceful atmosphere.\\n\\n2. Fort St. George: This is a historic fort located in Chennai, Tamil Nadu, India. It is a popular tourist spot and is known for its beautiful architecture and history.\\n\\n3. Anna Square: This is a large public square located in Chennai, Tamil Nadu, India. It is a popular spot for people to relax, walk, and enjoy the beautiful weather.\\n\\n4. Chinna Thambireddige Temple: This is a Hindu temple located in Chennai, Tamil Nadu, India. It is a popular tourist spot and is known for its beautiful architecture and peaceful atmosphere.\\n\\n5. Chennai Central: This is a railway station located in Chennai, Tamil Nadu, India. It is a popular tourist spot and is known for its beautiful architecture and history.'}]"
            ]
          },
          "metadata": {},
          "execution_count": 18
        }
      ]
    },
    {
      "cell_type": "code",
      "source": [
        "prompt = \"how about Germany?\"\n",
        "messages.append(dict(role=\"user\", content=prompt))\n",
        "\n",
        "input_ids = tokenizer.apply_chat_template(\n",
        "            messages, return_tensors=\"pt\", add_generation_prompt=True\n",
        ").to(device)\n",
        "\n",
        "out = model.generate(\n",
        "    input_ids=input_ids,\n",
        "    max_length=2000,\n",
        "    temperature=0.9,\n",
        "    top_p=0.7,\n",
        "    eos_token_id=tokenizer.eos_token_id,\n",
        ")\n",
        "\n",
        "decoded = tokenizer.batch_decode(out)\n",
        "assistant_message = (\n",
        "    decoded[0].split(\"<|assistant|>\\n\")[-1].replace(eos_token, \"\")\n",
        ")\n",
        "\n",
        "messages.append(dict(role=\"assistant\", content=assistant_message))\n",
        "\n",
        "\n",
        "print(assistant_message)"
      ],
      "metadata": {
        "id": "faiR8GFDcBxF",
        "colab": {
          "base_uri": "https://localhost:8080/"
        },
        "outputId": "eb9467a7-c6dc-4d9f-dd7c-d006b25bc351"
      },
      "execution_count": null,
      "outputs": [
        {
          "output_type": "stream",
          "name": "stdout",
          "text": [
            "1. Berlin Wall Memorial: This is a memorial located in Berlin, Germany, that commemorates the fall of the Berlin Wall. It is a popular tourist spot and is known for its beautiful architecture and history.\n",
            "\n",
            "2. Brandenburg Gate: This is a gate located in Berlin, Germany, that was once the main entrance to the city. It is a popular tourist spot and is known for its beautiful architecture and history.\n",
            "\n",
            "3. Pergamon Museum: This is a museum located in Berlin, Germany, that is dedicated to the history and culture of ancient Persia and the Middle East. It is a popular tourist spot and is known for its beautiful architecture and history.\n",
            "\n",
            "4. Berlin Wall Memorial: This is a memorial located in Berlin, Germany, that commemorates the fall of the Berlin Wall. It is a popular tourist spot and is known for its beautiful architecture and history.\n",
            "\n",
            "5. Brandenburg Gate: This is a gate located in Berlin, Germany, that was once the main entrance to the city. It is a popular tourist spot and is known for its beautiful architecture and history.\n"
          ]
        }
      ]
    },
    {
      "cell_type": "code",
      "source": [
        "\n",
        "messages = []\n",
        "prompt = \"Tell me 5 sites to visit in Bangalore in 1 day and give me the response in json\"\n",
        "messages.append(dict(role=\"user\", content=prompt))\n",
        "\n",
        "input_ids = tokenizer.apply_chat_template(\n",
        "            messages, return_tensors=\"pt\", add_generation_prompt=True\n",
        ").to(device)\n",
        "\n",
        "out = model.generate(\n",
        "    input_ids=input_ids,\n",
        "    max_length=2000,\n",
        "    temperature=0.9,\n",
        "    top_p=0.7,\n",
        "    eos_token_id=tokenizer.eos_token_id,\n",
        ")\n",
        "\n",
        "decoded = tokenizer.batch_decode(out)\n",
        "assistant_message = (\n",
        "    decoded[0].split(\"<|assistant|>\\n\")[-1].replace(eos_token, \"\")\n",
        ")\n",
        "\n",
        "messages.append(dict(role=\"assistant\", content=assistant_message))\n",
        "\n",
        "\n",
        "print(assistant_message)\n"
      ],
      "metadata": {
        "colab": {
          "base_uri": "https://localhost:8080/"
        },
        "id": "XwIq73nYoKob",
        "outputId": "45f451b1-8a1b-4030-a951-8e317fae1ce5"
      },
      "execution_count": null,
      "outputs": [
        {
          "output_type": "stream",
          "name": "stdout",
          "text": [
            "Sure, here are 5 sites to visit in Bangalore in 1 day:\n",
            "1. Mysore Palace\n",
            "2. St. Mary's Cathedral\n",
            "3. Cubbon Park\n",
            "4. Lalbagh Fort\n",
            "5. Vidhana Soudha\n",
            "Here is the response in JSON format:\n",
            "```\n",
            "{\n",
            "  \"sites\": [\n",
            "    {\n",
            "      \"name\": \"Mysore Palace\",\n",
            "      \"address\": \"Mysore Road, Mysore\",\n",
            "      \"opening_hours\": \"9:00 AM - 6:00 PM\",\n",
            "      \"description\": \"Mysore Palace is a royal palace located in Mysore, Karnataka, India. It was built in the 17th century and is one of the most popular tourist attractions in Mysore.\"\n",
            "    },\n",
            "    {\n",
            "      \"name\": \"St. Mary's Cathedral\",\n",
            "      \"address\": \"St. Mary's Road, Bangalore\",\n",
            "      \"opening_hours\": \"9:00 AM - 5:00 PM\",\n",
            "      \"description\": \"St. Mary's Cathedral is a historic church located in Bangalore, Karnataka, India. It was built in the Gothic Revival style and is one of the oldest churches in Bangalore.\"\n",
            "    },\n",
            "    {\n",
            "      \"name\": \"Cubbon Park\",\n",
            "      \"address\": \"Cubbon Road, Bangalore\",\n",
            "      \"opening_hours\": \"7:00 AM - 7:00 PM\",\n",
            "      \"description\": \"Cubbon Park is a large public park located in the heart of Bangalore. It is a popular spot for picnics, jogging, and other recreational activities.\"\n",
            "    },\n",
            "    {\n",
            "      \"name\": \"Lalbagh Fort\",\n",
            "      \"address\": \"Lalbagh Road, Bangalore\",\n",
            "      \"opening_hours\": \"9:00 AM - 6:00 PM\",\n",
            "      \"description\": \"Lalbagh Fort is a fort located in the heart of Bangalore. It was built in the 17th century and is one of the oldest forts in Bangalore.\"\n",
            "    },\n",
            "    {\n",
            "      \"name\": \"Vidhana Soudha\",\n",
            "      \"address\": \"Vidhana Soudha Road, Bangalore\",\n",
            "      \"opening_hours\": \"9:00 AM - 5:00 PM\",\n",
            "      \"description\": \"Vidhana Soudha is a government office building located in Bangalore, Karnataka, India. It is the headquarters of the Karnataka State Road Transport Corporation (KSRTC).\"\n",
            "    }\n",
            "  ]\n",
            "}\n",
            "```\n"
          ]
        }
      ]
    },
    {
      "cell_type": "code",
      "source": [],
      "metadata": {
        "id": "wB99_IRaoW3S"
      },
      "execution_count": null,
      "outputs": []
    }
  ]
}