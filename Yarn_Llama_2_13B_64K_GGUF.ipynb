{
  "cells": [
    {
      "cell_type": "markdown",
      "metadata": {
        "id": "view-in-github",
        "colab_type": "text"
      },
      "source": [
        "<a href=\"https://colab.research.google.com/github/bacoco/LLM_train/blob/main/Yarn_Llama_2_13B_64K_GGUF.ipynb\" target=\"_parent\"><img src=\"https://colab.research.google.com/assets/colab-badge.svg\" alt=\"Open In Colab\"/></a>"
      ]
    },
    {
      "cell_type": "markdown",
      "metadata": {
        "id": "XNkpBtLvuTOp"
      },
      "source": [
        "## Yarn Llama 2 13B 64K - GGUF WebUI\n",
        "1. Run the following cell, takes ~5 min\n",
        "2. Click the gradio link at the bottom\n",
        "3. In Chat settings - Instruction Template: Alpaca\n",
        "\n",
        "```\n",
        "Prompt template: None\n",
        "{prompt}"
      ]
    },
    {
      "cell_type": "code",
      "execution_count": null,
      "metadata": {
        "id": "D-MiHp_bveP6",
        "colab": {
          "base_uri": "https://localhost:8080/"
        },
        "outputId": "06054c7a-3b46-4bc8-cf01-f9d02e8d582a"
      },
      "outputs": [
        {
          "output_type": "stream",
          "name": "stdout",
          "text": [
            "..........................................................................................\n",
            "llama_new_context_with_model: kv self size  = 1600.00 MB\n",
            "llama_new_context_with_model: compute buffer total size =  191.41 MB\n",
            "llama_new_context_with_model: VRAM scratch buffer: 190.00 MB\n",
            "AVX = 1 | AVX2 = 1 | AVX512 = 0 | AVX512_VBMI = 0 | AVX512_VNNI = 0 | FMA = 1 | NEON = 0 | ARM_FMA = 0 | F16C = 1 | FP16_VA = 0 | WASM_SIMD = 0 | BLAS = 1 | SSE3 = 1 | SSSE3 = 1 | VSX = 0 | \n",
            "2023-09-01 12:55:44 INFO:\u001b[32mLoaded the model in 88.55 seconds.\n",
            "\u001b[0m\n",
            "2023-09-01 12:55:44 INFO:\u001b[32mLoading the extension \"gallery\"...\u001b[0m\n",
            "Running on local URL:  http://127.0.0.1:7860\n",
            "Running on public URL: https://d54a3e7d12b36be49b.gradio.live\n",
            "\n",
            "This share link expires in 72 hours. For free permanent hosting and GPU upgrades, run `gradio deploy` from Terminal to deploy to Spaces (https://huggingface.co/spaces)\n",
            "Output generated in 3.70 seconds (7.83 tokens/s, 29 tokens, context 66, seed 372648937)\n",
            "Llama.generate: prefix-match hit\n",
            "Output generated in 2.81 seconds (9.61 tokens/s, 27 tokens, context 96, seed 1632523875)\n",
            "Llama.generate: prefix-match hit\n",
            "Output generated in 1.02 seconds (10.80 tokens/s, 11 tokens, context 123, seed 367835675)\n",
            "Llama.generate: prefix-match hit\n",
            "Output generated in 4.51 seconds (14.40 tokens/s, 65 tokens, context 134, seed 182583888)\n"
          ]
        }
      ],
      "source": [
        "%cd /content\n",
        "!apt-get -y install -qq aria2\n",
        "\n",
        "!git clone https://github.com/bacoco/text-generation-webui\n",
        "%cd /content/text-generation-webui\n",
        "!pip install -r requirements.txt\n",
        "!pip install -U gradio==3.33.1\n",
        "\n",
        "!pip uninstall -y llama-cpp-python\n",
        "!CMAKE_ARGS=\"-DLLAMA_CUBLAS=on\" FORCE_CMAKE=1 pip install llama-cpp-python --no-cache-dir\n",
        "\n",
        "!aria2c --console-log-level=error -c -x 16 -s 16 -k 1M https://huggingface.co/TheBloke/Yarn-Llama-2-13B-64K-GGUF/resolve/main/yarn-llama-2-13b-64k.Q5_K_M.gguf -d /content/text-generation-webui/models/ -o yarn-llama-2-13b-64k.Q5_K_M.gguf\n",
        "\n",
        "%cd /content/text-generation-webui\n",
        "!python server.py --share --n-gpu-layers 1000000000 --model yarn-llama-2-13b-64k.Q5_K_M.gguf"
      ]
    }
  ],
  "metadata": {
    "accelerator": "GPU",
    "colab": {
      "provenance": [],
      "toc_visible": true,
      "include_colab_link": true
    },
    "gpuClass": "standard",
    "kernelspec": {
      "display_name": "Python 3",
      "name": "python3"
    },
    "language_info": {
      "name": "python"
    }
  },
  "nbformat": 4,
  "nbformat_minor": 0
}
